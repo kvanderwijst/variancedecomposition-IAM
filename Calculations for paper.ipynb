{
 "cells": [
  {
   "cell_type": "markdown",
   "metadata": {},
   "source": [
    "# Uncertainty propagation"
   ]
  },
  {
   "cell_type": "code",
   "execution_count": null,
   "metadata": {},
   "outputs": [],
   "source": [
    "import numpy as np\n",
    "import importlib\n",
    "#import numba as nb\n",
    "\n",
    "import plotly.offline as pyo\n",
    "import plotly.plotly as py\n",
    "import plotly.graph_objs as go\n",
    "import plotly.tools as pyt\n",
    "\n",
    "from tqdm import tqdm\n",
    "import json_tricks\n",
    "\n",
    "pyo.init_notebook_mode(connected=True) "
   ]
  },
  {
   "cell_type": "code",
   "execution_count": null,
   "metadata": {},
   "outputs": [],
   "source": [
    "import plotly.io as pio"
   ]
  },
  {
   "cell_type": "code",
   "execution_count": null,
   "metadata": {},
   "outputs": [],
   "source": [
    "from variancedecomposition.model import *\n",
    "from variancedecomposition.distributions import *\n",
    "from variancedecomposition.plot import *\n",
    "\n",
    "distributions = distributionsCosts"
   ]
  },
  {
   "cell_type": "code",
   "execution_count": null,
   "metadata": {},
   "outputs": [],
   "source": [
    "def f05(CO2):\n",
    "    return f(CO2, betaPERT_iCDF(0.05, 0, pStar, 1))\n",
    "\n",
    "def f95(CO2):\n",
    "    return f(CO2, betaPERT_iCDF(0.95, 0, pStar, 1))"
   ]
  },
  {
   "cell_type": "markdown",
   "metadata": {},
   "source": [
    "## Model parameters"
   ]
  },
  {
   "cell_type": "markdown",
   "metadata": {},
   "source": [
    "### $TCRE$: Climate sensitivity"
   ]
  },
  {
   "cell_type": "code",
   "execution_count": null,
   "metadata": {},
   "outputs": [],
   "source": [
    "distributionsPinkPlume = [\n",
    "    distributions[0], # TCRE\n",
    "    lambda N: sample_normal(N, 0, 0.21),  # T1870 (initial model uncertainty)\n",
    "    lambda N: sample_normal(N, 0,  0),  # sigma_nonCO2\n",
    "]"
   ]
  },
  {
   "cell_type": "code",
   "execution_count": null,
   "metadata": {},
   "outputs": [],
   "source": [
    "def createPinkPlumeValue (T, N, distributions):\n",
    "    # Sample the CO2 distribution\n",
    "    sample = sampleCO2value(T, N, distributions)\n",
    "    \n",
    "    # Calculate the 5%, 66% and 95% points\n",
    "    sortedsamples = np.sort(sample)\n",
    "    percent05 = sortedsamples[int(0.05 * len(sortedsamples))]\n",
    "    percent66 = sortedsamples[int(0.66 * len(sortedsamples))]\n",
    "    percent95 = sortedsamples[int(0.95 * len(sortedsamples))]\n",
    "    median = np.median(sortedsamples)\n",
    "    \n",
    "    #pyo.iplot([go.Histogram(x=sample)])\n",
    "    \n",
    "    return (percent05, percent66, percent95, median)"
   ]
  },
  {
   "cell_type": "code",
   "execution_count": null,
   "metadata": {},
   "outputs": [],
   "source": [
    "TvaluesPlume = np.linspace(-0.5, 5.5, 20)\n",
    "plumeValues = np.array([\n",
    "    createPinkPlumeValue(T, 100000, distributionsPinkPlume)\n",
    "    for T in tqdm(TvaluesPlume)\n",
    "])"
   ]
  },
  {
   "cell_type": "code",
   "execution_count": null,
   "metadata": {},
   "outputs": [],
   "source": [
    "def createPinkPlume (withbuttons=True):\n",
    "    \n",
    "    data = [\n",
    "        go.Scatter(x=plumeValues[:,0], y=TvaluesPlume, name='max', line=dict(color='rgba(0,0,0,0)', width=0)),\n",
    "        go.Scatter(x=plumeValues[:,3], y=TvaluesPlume, name='mode', line=dict(color='red', width=4), fill='tonexty', fillcolor='rgba(255,0,0,.3)'),\n",
    "        go.Scatter(x=plumeValues[:,2], y=TvaluesPlume, name='min', line=dict(color='rgba(0,0,0,0)', width=0), fill='tonexty', fillcolor='rgba(255,0,0,.3)'),\n",
    "        #go.Scatter(x=[-0.5,10],y=[0.909+.15,0.909+.15], line=dict(color='black', width=0), name='T 2016'),\n",
    "        #go.Scatter(x=[-0.5,10],y=[0.909,0.909], line=dict(color='rgb(0,0,70)', width=2), name='T 2016', fill='tonexty', fillcolor='rgba(0,0,70,.3)'),\n",
    "        #go.Scatter(x=[-0.5,10],y=[0.909-.15,0.909-0.15], line=dict(color='black', width=0), name='T 2016', fill='tonexty', fillcolor='rgba(0,0,70,.3)')\n",
    "    ]\n",
    "    #data = []\n",
    "    \n",
    "    def bgimage(opacity=1):\n",
    "        return [ dict(\n",
    "            source = 'wg1noaxes.png',\n",
    "            xref = 'x',\n",
    "            yref = 'y',\n",
    "            x = -0.6,\n",
    "            y = 5.6,\n",
    "            sizex = 10.155,\n",
    "            sizey = 6.557,\n",
    "            sizing = 'stretch',\n",
    "            layer = 'below',\n",
    "            opacity = opacity\n",
    "            )\n",
    "        ]\n",
    "    \n",
    "    updatemenus = [\n",
    "        dict(type='buttons',\n",
    "            active=2,\n",
    "            buttons=[\n",
    "                dict(label='Only IPCC plot', method='update', args = [{'visible': [False] * 3}, {'images': bgimage(1)}]),\n",
    "                dict(label='Only model plume', method='update', args = [{'visible': [True] * 3}, {'images': []}]),\n",
    "                dict(label='Both', method='update', args = [{'visible': [True] * 3}, {'images': bgimage(.75)}]),\n",
    "            ]\n",
    "        )\n",
    "    ]\n",
    "    \n",
    "    width = 850\n",
    "    \n",
    "    if not withbuttons:\n",
    "        updatemenus = []\n",
    "        width = 750\n",
    "    \n",
    "    layout = go.Layout(\n",
    "        xaxis=dict(title='Emissions (TtCO2)', range=[-0.3, 9.5], showgrid=True),\n",
    "        yaxis=dict(title='Temperature change', range=[-0.2,5.5], showgrid=True),\n",
    "        images = bgimage(.75),\n",
    "        updatemenus = updatemenus,\n",
    "        showlegend = False,\n",
    "        width = width,\n",
    "        height = 550,\n",
    "        margin=dict(\n",
    "            t=20,\n",
    "            b=40,l=50,r=10\n",
    "        )\n",
    "    )\n",
    "    \n",
    "    fig = go.Figure(data = data, layout = layout)\n",
    "    pyo.iplot(fig, image='', image_width=fig.layout.width, image_height=fig.layout.height, show_link=False, filename='plumeAndModel')\n",
    "\n",
    "createPinkPlume(True)"
   ]
  },
  {
   "cell_type": "markdown",
   "metadata": {},
   "source": [
    "### $\\sigma_{non\\ CO2}$: variance due to non-CO2 emissions"
   ]
  },
  {
   "cell_type": "code",
   "execution_count": null,
   "metadata": {},
   "outputs": [],
   "source": [
    "TempChangeFromCO2 = np.loadtxt(open(\"Parameter estimations/TempChangeFromCO2.csv\", \"rb\"), delimiter=\",\")\n",
    "TempChangeFromNonCO2 = np.loadtxt(open(\"Parameter estimations/TempChangeFromNonCO2.csv\", \"rb\"), delimiter=\",\")"
   ]
  },
  {
   "cell_type": "code",
   "execution_count": null,
   "metadata": {},
   "outputs": [],
   "source": [
    "trace2nonCO2 = go.Scatter(x=TempChangeFromNonCO2[:,0]/1000, showlegend=False, y=TempChangeFromNonCO2[:,1], mode='markers', name='From non-CO₂', marker=dict(color='rgba(0,0,0,.8)'))\n",
    "\n",
    "CO2values = np.linspace(0, 8.5, 100)\n",
    "trace3anonCO2 = go.Scatter(x=CO2values, y=0.1473 + 0.0875 * CO2values, showlegend=False, mode='lines', line=dict(width=3, color='rgba(63, 158, 71, 1)'))\n",
    "trace3bnonCO2 = go.Scatter(x=CO2values, y=0.1473 + 0.0875 * CO2values + 0.25, showlegend=False, mode='lines', line=dict(color='#bbb'))\n",
    "trace3cnonCO2 = go.Scatter(x=CO2values, y=0.1473 + 0.0875 * CO2values - 0.19, showlegend=False, mode='lines', line=dict(color='#bbb'))\n",
    "trace3dnonCO2 = go.Scatter(\n",
    "    x=np.concatenate([CO2values, CO2values[::-1]]),\n",
    "    y=np.concatenate([0.1473 + 0.0875 * CO2values + 0.25,0.1473 + 0.0875 * CO2values[::-1] - 0.19]),\n",
    "    mode='lines',\n",
    "    fill='tozerox', showlegend=False,\n",
    "    fillcolor='rgba(63, 158, 71, .35)',\n",
    "    line=dict(color='rgba(255,255,255,0)')\n",
    ")\n",
    "\n",
    "data = [trace2nonCO2, trace3bnonCO2, trace3cnonCO2, trace3dnonCO2, trace3anonCO2]\n",
    "\n",
    "layout = go.Layout(\n",
    "    width=400, height=330,\n",
    "    xaxis=dict(title='Cumulative emissions (TtCO₂)', range=[0, 8.5]),\n",
    "    yaxis=dict(title='Temp. change from non-CO₂ (°C)', range=[0, 1.1]),\n",
    "    margin=dict(t=10,l=50,r=20,b=50), \n",
    "    showlegend=False,\n",
    "    legend=dict(orientation='h')\n",
    ")\n",
    "\n",
    "fig = go.Figure(data, layout)\n",
    "\n",
    "pyo.iplot(fig, image='', show_link=False, filename='TempChangeFromNonCO2', image_width=fig.layout.width, image_height=fig.layout.height)#, image='svg')"
   ]
  },
  {
   "cell_type": "code",
   "execution_count": null,
   "metadata": {},
   "outputs": [],
   "source": [
    "fig = pyt.make_subplots(1,2,print_grid=False, subplot_titles=(\n",
    "    '<b>a.</b>                                                                                                ',\n",
    "    '<b>b.</b>                                                                                                '\n",
    "))\n",
    "\n",
    "data = [\n",
    "    go.Scatter(x=plumeValues[:,0], y=TvaluesPlume, name='max', line=dict(color='rgba(0,0,0,0)', width=0)),\n",
    "    go.Scatter(x=plumeValues[:,3], y=TvaluesPlume, name='mode', line=dict(color='red', width=3), fill='tonexty', fillcolor='rgba(255,0,0,.3)'),\n",
    "    go.Scatter(x=plumeValues[:,2], y=TvaluesPlume, name='min', line=dict(color='rgba(0,0,0,0)', width=0), fill='tonexty', fillcolor='rgba(255,0,0,.3)'),\n",
    "    go.Scatter(x=[-0.5,10],y=[0.909+.15,0.909+.15], line=dict(color='black', width=0), name='T 2016'),\n",
    "    go.Scatter(x=[-0.5,10],y=[0.909,0.909], line=dict(color='rgb(0,0,70)', width=2), name='T 2016', fill='tonexty', fillcolor='rgba(0,0,70,.3)'),\n",
    "    go.Scatter(x=[-0.5,10],y=[0.909-.15,0.909-0.15], line=dict(color='black', width=0), name='T 2016', fill='tonexty', fillcolor='rgba(0,0,70,.3)')\n",
    "]\n",
    "\n",
    "for trace in data:\n",
    "    fig.append_trace(trace, 1, 1)\n",
    "\n",
    "for trace in [trace2nonCO2, trace3bnonCO2, trace3cnonCO2, trace3dnonCO2, trace3anonCO2]:\n",
    "    fig.append_trace(trace, 1, 2)\n",
    "\n",
    "fig['layout'].update(\n",
    "    xaxis1=dict(title='Emissions (TtCO2)', range=[-0.3, 8.5], showgrid=True),\n",
    "    yaxis1=dict(title='Temperature change (°C)', range=[-0.2,4.8], showgrid=True),\n",
    "    xaxis2=dict(title='Cumulative emissions (TtCO₂)', range=[0, 8.5]),\n",
    "    yaxis2=dict(title='Temp. change from non-CO₂ (°C)', range=[-0.09, 1.1]),\n",
    "    images = [dict(\n",
    "        source = 'wg1noaxes.png',\n",
    "        xref = 'x1',\n",
    "        yref = 'y1',\n",
    "        x = -0.6,\n",
    "        y = 5.6,\n",
    "        sizex = 10.155,\n",
    "        sizey = 6.557,\n",
    "        sizing = 'stretch',\n",
    "        layer = 'below',\n",
    "        opacity = 1\n",
    "        )\n",
    "    ],\n",
    "    showlegend = False,\n",
    "    width = 800,\n",
    "    height = 350,\n",
    "    margin=dict(\n",
    "        t=30,\n",
    "        b=40,l=50,r=10\n",
    "    )\n",
    ")\n",
    "\n",
    "pyo.iplot(fig, image='', image_width=fig.layout.width, image_height=fig.layout.height, show_link=False, filename='plumeAndModel')\n"
   ]
  },
  {
   "cell_type": "markdown",
   "metadata": {},
   "source": [
    "### $p$: costs "
   ]
  },
  {
   "cell_type": "code",
   "execution_count": null,
   "metadata": {},
   "outputs": [],
   "source": [
    "costsSplittedRaw = json_tricks.load(open('Parameter estimations/CostsSplitted.json'))\n",
    "costsSplitted = [np.array(a) for a in costsSplittedRaw]\n",
    "\n",
    "indices = [0.022, 0.008, 0.023]\n",
    "\n",
    "costsOriginal = [costsSplitted[i] * np.array([1, indices[i]]) for i in range(3)]"
   ]
  },
  {
   "cell_type": "code",
   "execution_count": null,
   "metadata": {},
   "outputs": [],
   "source": [
    "CO2levels = np.linspace(0.5,8,100)\n",
    "costsLow = f05(CO2levels)\n",
    "costsHigh = f95(CO2levels)\n",
    "costsMode = f(CO2levels, pStar)"
   ]
  },
  {
   "cell_type": "code",
   "execution_count": null,
   "metadata": {},
   "outputs": [],
   "source": [
    "ar5costsRaw = np.array([[0.9851, 0.2101], [0.9993, 0.4842], [0.9743, 0.8803], [1.987, 0.6107], [1.998, 1.045], [1.995, 1.250], [2.988, 1.034], [2.982, 1.384], [2.951, 2.154], [3.951, 1.519], [3.975, 2.356], [3.953, 3.719], [4.949, 2.117], [4.940, 2.719], [4.911, 4.516], [6.992, 0.4739], [6.984, 0.9841], [6.979, 1.258], [7.975, 0.8365], [7.953, 1.050], [7.961, 1.743], [8.958, 1.283], [8.949, 1.816], [8.956, 2.554], [9.957, 1.828], [9.949, 2.300], [9.932, 4.531], [10.94, 1.962], [10.93, 2.876], [10.88, 5.716], [12.99, 0.1362], [12.99, 0.1362], [12.99, 0.1362], [13.96, 0.1866], [13.96, 0.3693], [13.97, 0.4759], [15.00, 0.3357], [15.00, 0.4576], [15.00, 0.6479], [15.97, 0.4014], [15.94, 1.117], [15.96, 2.396], [16.94, 0.7487], [16.93, 1.228], [16.92, 1.602]])\n",
    "ar5gdplossesminmaxRaw = np.array([\n",
    "    [1, 0.115,1.448],\n",
    "    [2, 0.212,2.891],\n",
    "    [3, 0.103,10.865884],\n",
    "    [4, 0.515,6.338664],\n",
    "    [5, 1.510,15.201658]\n",
    "])\n",
    "ar5consumptionlossesminmaxRaw = np.array([\n",
    "    [1, -0.280745, 2.176519],\n",
    "    [2, 0.106914, 4.619673],\n",
    "    [3, 0.270221, 9.500628],\n",
    "    [4, 0.339615, 4.467258],\n",
    "    [5, 0.533799, 13.383114]\n",
    "])"
   ]
  },
  {
   "cell_type": "code",
   "execution_count": null,
   "metadata": {},
   "outputs": [],
   "source": [
    "co2concentrations = np.array([\n",
    "    [685, 2570, 3340],\n",
    "    [615, 1870, 2440],\n",
    "    [550, 1240, 2100],\n",
    "    [500, 960, 1550],\n",
    "    [450, 630, 1180]\n",
    "])\n",
    "\n",
    "def processAR5costs (raw):\n",
    "    n = len(raw)\n",
    "    \n",
    "    raw[:,0] = np.round(raw[:,0])\n",
    "    \n",
    "    tmp = np.reshape(raw, (3, int(n/9), 3, 2))\n",
    "    \n",
    "    for i in range(len(co2concentrations)):\n",
    "        tmp[:,i,:,0] = np.mean(co2concentrations[i][1:])\n",
    "    \n",
    "    return {\n",
    "        'consumptionloss': tmp[0],\n",
    "        'gdplosses': tmp[1],\n",
    "        'abatementcosts': tmp[2]\n",
    "    }"
   ]
  },
  {
   "cell_type": "code",
   "execution_count": null,
   "metadata": {},
   "outputs": [],
   "source": [
    "AR5processed = processAR5costs(ar5costsRaw)"
   ]
  },
  {
   "cell_type": "code",
   "execution_count": null,
   "metadata": {},
   "outputs": [],
   "source": [
    "def indexAR5costs (costs, median):\n",
    "    return costs / median[2]"
   ]
  },
  {
   "cell_type": "code",
   "execution_count": null,
   "metadata": {},
   "outputs": [],
   "source": [
    "indexedAR5gdplosses = [indexAR5costs(AR5processed['gdplosses'][:,i,1],AR5processed['gdplosses'][:,1,1]) for i in range(3)]\n",
    "#print(indexedAR5gdplosses)\n",
    "indexedAR5consumptionloss = [indexAR5costs(AR5processed['consumptionloss'][:,i,1],AR5processed['consumptionloss'][:,1,1]) for i in range(3)]"
   ]
  },
  {
   "cell_type": "code",
   "execution_count": null,
   "metadata": {},
   "outputs": [],
   "source": [
    "ar5gdplossesmin = ar5gdplossesminmaxRaw[:,0:2].copy()\n",
    "ar5gdplossesmin[:,0] = np.mean(co2concentrations[:,1:], axis=1)\n",
    "ar5gdplossesmin[:,1] = indexAR5costs(ar5gdplossesmin[:,1], AR5processed['gdplosses'][:,1,1])\n",
    "\n",
    "ar5gdplossesmax = ar5gdplossesminmaxRaw[:,[0,2]].copy()\n",
    "ar5gdplossesmax[:,0] = np.mean(co2concentrations[:,1:], axis=1)\n",
    "ar5gdplossesmax[:,1] = indexAR5costs(ar5gdplossesmax[:,1], AR5processed['gdplosses'][:,1,1])\n",
    "\n",
    "#print([list(x) for x in list(ar5gdplossesmin)])\n",
    "#print([list(x) for x in list(ar5gdplossesmax)])"
   ]
  },
  {
   "cell_type": "code",
   "execution_count": null,
   "metadata": {},
   "outputs": [],
   "source": [
    "ar5consumptionlossmin = ar5consumptionlossesminmaxRaw[:,0:2].copy()\n",
    "ar5consumptionlossmin[:,0] = np.mean(co2concentrations[:,1:], axis=1)\n",
    "ar5consumptionlossmin[:,1] = indexAR5costs(ar5consumptionlossmin[:,1], AR5processed['consumptionloss'][:,1,1])\n",
    "\n",
    "ar5consumptionlossmax = ar5consumptionlossesminmaxRaw[:,[0,2]].copy()\n",
    "ar5consumptionlossmax[:,0] = np.mean(co2concentrations[:,1:], axis=1)\n",
    "ar5consumptionlossmax[:,1] = indexAR5costs(ar5consumptionlossmax[:,1], AR5processed['consumptionloss'][:,1,1])"
   ]
  },
  {
   "cell_type": "code",
   "execution_count": null,
   "metadata": {},
   "outputs": [],
   "source": [
    "def createBarChart(x, minima, bottom, median, top, maxima, width=0.1, yaxis='y', show=True):\n",
    "    color = 'rgba(133, 25, 121, .8)'\n",
    "    mw = 0.15 # Median Width\n",
    "    data = [\n",
    "        go.Bar(x=x, y=minima, width=width, marker=dict(color='rgba(0,0,0,0)'), yaxis=yaxis, showlegend=False),\n",
    "        go.Bar(x=x, y=bottom-minima, width=width, marker=dict(color='rgba(133, 25, 121, .5)'), showlegend=show, yaxis=yaxis, name='AR5: full range'),\n",
    "        go.Bar(x=x, y=median-bottom-mw/2, width=width, marker=dict(color=color), showlegend=show, yaxis=yaxis, name='AR5: 66% CI'),\n",
    "        go.Bar(x=x, y=0*x+mw, width=width, marker=dict(color='black'), yaxis=yaxis, showlegend=show, name='AR5: median'),\n",
    "        go.Bar(x=x, y=top-median-mw/2, width=width, marker=dict(color=color), yaxis=yaxis, showlegend=False),\n",
    "        go.Bar(x=x, y=maxima-top, width=width, marker=dict(color='rgba(133, 25, 121, .5)'), yaxis=yaxis, showlegend=False)\n",
    "    ]\n",
    "    return data"
   ]
  },
  {
   "cell_type": "code",
   "execution_count": null,
   "metadata": {},
   "outputs": [],
   "source": [
    "def combinedPlot(legend=3):\n",
    "\n",
    "    fig = pyt.make_subplots(2,2,print_grid=False, subplot_titles=(\n",
    "        '<b>a.</b>                                                                                                ',\n",
    "        '<b>b.</b>                                                                                                ',\n",
    "        '<b>c.</b>                                                                                                                                                                                                 '\n",
    "    ), specs=[[{}, {}], [{'colspan': 2}, None]])\n",
    "\n",
    "    data = [\n",
    "        go.Scatter(x=plumeValues[:,0], y=TvaluesPlume, showlegend=False, name='max', line=dict(color='rgba(0,0,0,0)', width=0)),\n",
    "        go.Scatter(x=plumeValues[:,3], y=TvaluesPlume, showlegend=legend==1, name='Model (mode, 90% CI)', line=dict(color='red', width=3), fill='tonexty', fillcolor='rgba(255,0,0,.3)'),\n",
    "        go.Scatter(x=plumeValues[:,2], y=TvaluesPlume, showlegend=False, name='min', line=dict(color='rgba(0,0,0,0)', width=0), fill='tonexty', fillcolor='rgba(255,0,0,.3)'),\n",
    "        go.Scatter(x=[-0.5,10],y=[0.909+.15,0.909+.15], showlegend=False, line=dict(color='black', width=0), name='T 2010'),\n",
    "        go.Scatter(x=[-0.5,10],y=[0.909,0.909], showlegend=legend==1, mode='lines', line=dict(color='rgb(0,0,70)', width=2), name='T₂₀₁₀ (mode, 90% CI)', fill='tonexty', fillcolor='rgba(0,0,70,.3)'),\n",
    "        go.Scatter(x=[-0.5,10],y=[0.909-.15,0.909-0.15], showlegend=False, line=dict(color='black', width=0), name='T 2010', fill='tonexty', fillcolor='rgba(0,0,70,.3)'),\n",
    "        go.Scatter(x=[0,1],y=[0.9,0.9],mode='markers',xaxis='x4',marker=dict(color='rgba(0,0,0,0)'),showlegend=False)\n",
    "    ]\n",
    "\n",
    "    plumecolor = 'rgba(52, 105, 177, .3)'\n",
    "\n",
    "    dataCosts = [\n",
    "        go.Scatter(x=costsSplitted[0][:,0]/1000, y=costsSplitted[0][:,1], showlegend=legend==3, mode='markers', name='SSP: Cost estimate', marker=dict(color='#1f77b4')),\n",
    "        go.Scatter(x=costsSplitted[1][:,0]/1000, y=costsSplitted[1][:,1], showlegend=legend==3, mode='markers', name='SSP: Area under MAC', marker=dict(color='#ff7f0e')),\n",
    "        go.Scatter(x=costsSplitted[2][:,0]/1000, y=costsSplitted[2][:,1], showlegend=legend==3, mode='markers', name='SSP: Consumption loss', marker=dict(color='#2ca02c')),\n",
    "        go.Scatter(\n",
    "            x=np.concatenate([CO2levels,CO2levels[::-1]]),\n",
    "            y=np.concatenate([costsHigh,costsLow[::-1]]),\n",
    "            line=dict(color='rgba(0,0,0,0)', width=0),\n",
    "            name='Model: 90% CI', yaxis='y5',\n",
    "            fillcolor=plumecolor, fill='toself', showlegend=legend==3\n",
    "        ),\n",
    "        go.Scatter(x=CO2levels, y=costsMode, line=dict(width=3,color='rgb(20,20,20)'), showlegend=legend==3, name='Model: median', yaxis='y5'),\n",
    "        go.Scatter(x=costsSplitted[0][:,0]/1000, y=toRealCosts(costsSplitted[0][:,1]), yaxis='y4', mode='markers', name='Cost estimate', marker=dict(color='rgba(0,0,0,0)'), showlegend=False), \n",
    "    ]\n",
    "\n",
    "    databars = createBarChart(\n",
    "        #x=(AR5processed['gdplosses'][:,0,0]+1*0.04)/1000, \n",
    "        #minima=ar5gdplossesmin[:,1],\n",
    "        #bottom=indexedAR5gdplosses[0],\n",
    "        #median=indexedAR5gdplosses[1],\n",
    "        #top=indexedAR5gdplosses[2],\n",
    "        #maxima=ar5gdplossesmax[:,1],\n",
    "        x=(AR5processed['consumptionloss'][:,0,0]+1*0.04)/1000, # +40GtCO2 for 2010 emissions. Table 6.2 uses 2011-2100 budgets\n",
    "        minima=ar5consumptionlossmin[:,1],\n",
    "        bottom=indexedAR5consumptionloss[0],\n",
    "        median=indexedAR5consumptionloss[1],\n",
    "        top=indexedAR5consumptionloss[2],\n",
    "        maxima=ar5consumptionlossmax[:,1],\n",
    "        \n",
    "        #width=(co2concentrations[:,2]-co2concentrations[:,1])/1000.0,\n",
    "        width=0.2,\n",
    "        yaxis='y5',\n",
    "        show=legend==3\n",
    "    )\n",
    "\n",
    "    dataCosts = dataCosts + databars\n",
    "    \n",
    "    \n",
    "    trace2nonCO2 = go.Scatter(x=TempChangeFromNonCO2[:,0]/1000, showlegend=legend==2, y=TempChangeFromNonCO2[:,1], mode='markers', name='SSP data', marker=dict(color='rgba(0,0,0,.8)'))\n",
    "\n",
    "    CO2values = np.linspace(0, 8.5, 100)\n",
    "    trace3anonCO2 = go.Scatter(x=CO2values, y=0.1473 + 0.0875 * CO2values, name='Model (mode, 90% CI)', showlegend=legend==2, mode='lines', line=dict(width=3, color='rgba(63, 158, 71, 1)'), fill='tonexty',fillcolor='rgba(63, 158, 71, .35)')\n",
    "    trace3bnonCO2 = go.Scatter(x=CO2values, y=0.1473 + 0.0875 * CO2values + 0.25, showlegend=False, mode='lines', line=dict(color='#bbb'))\n",
    "    trace3cnonCO2 = go.Scatter(x=CO2values, y=0.1473 + 0.0875 * CO2values - 0.19, showlegend=False, mode='lines', line=dict(color='#bbb'))\n",
    "    trace3dnonCO2 = go.Scatter(\n",
    "        x=np.concatenate([CO2values, CO2values[::-1]]),\n",
    "        y=np.concatenate([0.1473 + 0.0875 * CO2values,0.1473 + 0.0875 * CO2values[::-1]-0.19]),\n",
    "        mode='lines',\n",
    "        name='90% CI',\n",
    "        fill='tozerox', showlegend=False,\n",
    "        fillcolor='rgba(63, 158, 71, .35)',\n",
    "        line=dict(color='rgba(255,255,255,0)')\n",
    "    )\n",
    "\n",
    "\n",
    "\n",
    "    for trace in data:\n",
    "        fig.append_trace(trace, 1, 1)\n",
    "\n",
    "    for trace in [trace2nonCO2, trace3bnonCO2, trace3anonCO2, trace3cnonCO2, trace3dnonCO2, ]:\n",
    "        fig.append_trace(trace, 1, 2)\n",
    "\n",
    "    for trace in dataCosts:\n",
    "        fig.append_trace(trace, 2, 1)\n",
    "    \n",
    "    fig['data'][6]['xaxis'] = 'x4'\n",
    "    \n",
    "    fig['data'][15]['yaxis'] = 'y5'\n",
    "    fig['data'][16]['yaxis'] = 'y5'\n",
    "    fig['data'][17]['yaxis'] = 'y4'\n",
    "    fig['data'][18]['yaxis'] = 'y5'\n",
    "    fig['data'][19]['yaxis'] = 'y5'\n",
    "    fig['data'][20]['yaxis'] = 'y5'\n",
    "    fig['data'][21]['yaxis'] = 'y5'\n",
    "    fig['data'][22]['yaxis'] = 'y5'\n",
    "    fig['data'][23]['yaxis'] = 'y5'\n",
    "    \n",
    "    if legend == 1:\n",
    "        legendpos = dict(\n",
    "            x=0.02,\n",
    "            y=0.53,\n",
    "            orientation='h'\n",
    "        )\n",
    "    if legend == 2:\n",
    "        legendpos = dict(\n",
    "            x=0.6,\n",
    "            y=0.53,\n",
    "            orientation='h'\n",
    "        )\n",
    "    if legend == 3:\n",
    "        legendpos = dict(\n",
    "            x=0.75,\n",
    "            y=0.1\n",
    "        )\n",
    "    \n",
    "    shift1870to2010 = 1.93 # TtCO2\n",
    "    \n",
    "    fig['layout'].update(\n",
    "        xaxis1=dict(title='Cumulative emissions since 1870 (TtCO₂)', range=[-0.3, 8.5], showgrid=True, side='top'),\n",
    "        xaxis4=dict(\n",
    "            title='Cumulative emissions since 2010  (TtCO₂)',\n",
    "            range=[-0.3-1.9, 8.5-1.9],\n",
    "            overlaying='x1',\n",
    "            side='bottom',\n",
    "            anchor='y1',\n",
    "            showgrid=False,\n",
    "            zeroline=False\n",
    "        ),\n",
    "        yaxis1=dict(title='Temperature change (°C)', range=[-0.2,4.8], domain=[0.625, 0.97], showgrid=True),\n",
    "        xaxis2=dict(title='Cumulative emissions since 2010 (TtCO₂)', range=[0, 8.5]),\n",
    "        yaxis2=dict(title='Temp. change from non-CO₂ (°C)', range=[-0.09, 1.1], domain=[0.625, 0.97]),\n",
    "        yaxis3=dict(title='Indexed costs', range=[-0.3,7.5], domain=[0,.45]), \n",
    "        yaxis4=dict(\n",
    "            title='Translated costs (trillion USD)',\n",
    "            overlaying='y3',\n",
    "            side='right',\n",
    "            anchor='x3',\n",
    "            domain=[0,.45],\n",
    "            showgrid=False,\n",
    "            range=[toRealCosts(-0.3),toRealCosts(7.5)]\n",
    "        ),\n",
    "        yaxis5=dict(range=[-0.3,7.5], overlaying='y3', anchor='x3', domain=[0,.45], showgrid=False, tickvals=[]),\n",
    "        xaxis3=dict(title='Cumulative emissions since 2010 (TtCO₂)', range=[0.25,6.2], domain=[0,.65]),\n",
    "        images = [dict(\n",
    "            source = 'wg1noaxes.png',\n",
    "            xref = 'x1',\n",
    "            yref = 'y1',\n",
    "            x = -0.6,\n",
    "            y = 5.6,\n",
    "            sizex = 10.155,\n",
    "            sizey = 6.557,\n",
    "            sizing = 'stretch',\n",
    "            layer = 'below',\n",
    "            opacity = 1\n",
    "            )\n",
    "        ],\n",
    "        barmode='stack',\n",
    "        showlegend = True,\n",
    "        width = 800,\n",
    "        height = 750*1.05,\n",
    "        margin=dict(\n",
    "            t=30,\n",
    "            b=40,l=50,r=10\n",
    "        ),\n",
    "        legend=legendpos\n",
    "    )\n",
    "\n",
    "    pyo.iplot(fig, image='svg', filename='modelComponents1', image_width=fig.layout.width, image_height=fig.layout.height, show_link=False, config={'displayModeBar': False})\n",
    "    pio.write_image(fig, 'modelComponentsNew'+str(legend)+'.svg')\n",
    "\n",
    "combinedPlot(3)"
   ]
  },
  {
   "cell_type": "markdown",
   "metadata": {
    "heading_collapsed": true
   },
   "source": [
    "## Cost as function of temperature"
   ]
  },
  {
   "cell_type": "code",
   "execution_count": null,
   "metadata": {
    "hidden": true
   },
   "outputs": [],
   "source": [
    "def costDistribution(T, N=10000):\n",
    "    samples = [dist(N) for dist in distributions]\n",
    "    \n",
    "    # First sample the CO2 distribution given a temperature goal\n",
    "    CO2values = CO2asfunctionofTemperature(T, samples[0], samples[1], samples[2])\n",
    "    \n",
    "    # Then use these values to calculate the distribution in costs\n",
    "    costs = toRealCosts(f(CO2values, samples[3]))\n",
    "    \n",
    "    # Calculate median, 5% and 95% percentile\n",
    "    median  = np.median(costs)\n",
    "    \n",
    "    sortedCosts = np.sort(costs)\n",
    "    \n",
    "    percentile05 = sortedCosts[round(0.05*N)]\n",
    "    percentile95 = sortedCosts[round(0.95*N)]\n",
    "    \n",
    "    return (median, percentile05, percentile95, T)"
   ]
  },
  {
   "cell_type": "code",
   "execution_count": null,
   "metadata": {
    "hidden": true
   },
   "outputs": [],
   "source": [
    "%%time\n",
    "costRange = np.array([costDistribution(T, 100000) for T in tqdm(np.linspace(0.5,6,50))])"
   ]
  },
  {
   "cell_type": "code",
   "execution_count": null,
   "metadata": {
    "hidden": true
   },
   "outputs": [],
   "source": [
    "print(costDistribution(1.5, N=100000))\n",
    "print(costDistribution(2.0, N=100000))"
   ]
  },
  {
   "cell_type": "code",
   "execution_count": null,
   "metadata": {
    "hidden": true
   },
   "outputs": [],
   "source": [
    "selection = costRange[:,3]>1.0\n",
    "selectionMedian = selection & (costRange[:,0]>2)\n",
    "selectionMin = selection & (costRange[:,1]>2)\n",
    "selectionMax = selection & (costRange[:,2]>2)\n",
    "pyo.iplot([\n",
    "    go.Scatter(x=costRange[selectionMedian,3], y=costRange[selectionMedian,0]),\n",
    "    go.Scatter(x=costRange[selectionMin,3], y=costRange[selectionMin,1]),\n",
    "    go.Scatter(x=costRange[selectionMax,3], y=costRange[selectionMax,2])\n",
    "])"
   ]
  },
  {
   "cell_type": "markdown",
   "metadata": {
    "heading_collapsed": true
   },
   "source": [
    "## Sensitivity analysis (Sobol method)"
   ]
  },
  {
   "cell_type": "code",
   "execution_count": null,
   "metadata": {
    "hidden": true
   },
   "outputs": [],
   "source": [
    "with open('output/relativeVariancesModel0.json') as jsonfile:\n",
    "    outputSensitivity = json_tricks.load(jsonfile)"
   ]
  },
  {
   "cell_type": "code",
   "execution_count": null,
   "metadata": {
    "hidden": true
   },
   "outputs": [],
   "source": [
    "Tvalues = outputSensitivity['Tvalues']\n",
    "processed = processResults(outputSensitivity['results'])"
   ]
  },
  {
   "cell_type": "code",
   "execution_count": null,
   "metadata": {
    "hidden": true
   },
   "outputs": [],
   "source": [
    "# def cumulativeAreaChart (xvalues, yvalues, colors, names, arrowshift=None, textcolor=None):\n",
    "    \n",
    "#     # Calculate cumulative values for stacked chart\n",
    "#     cumulative = [\n",
    "#         np.sum(yvalues[:,0:i+1],1)\n",
    "#         for i in range(yvalues.shape[1])\n",
    "#     ]\n",
    "\n",
    "#     # Plot\n",
    "#     traces = [\n",
    "#         go.Scatter(\n",
    "#             x=xvalues, y=cumulative[i],\n",
    "#             #name=names[i],\n",
    "#             mode='lines',\n",
    "#             fill='tonexty',\n",
    "#             fillcolor=colors[i % len(colors)],\n",
    "#             text=[str(int(y*100))+'%' for y in yvalues[:,i]],\n",
    "#             hoverinfo='x+text'\n",
    "#         )\n",
    "#         for i in range(yvalues.shape[1])]\n",
    "    \n",
    "#     if arrowshift == None:\n",
    "#         arrowshift = np.zeros(yvalues.shape[1])\n",
    "#     if textcolor == None:\n",
    "#         textcolor = ['#000'] * yvalues.shape[1]\n",
    "    \n",
    "#     layout = go.Layout(\n",
    "#         colorway=colors,\n",
    "#         barmode='stack',\n",
    "#         width=900,\n",
    "#         height=900,\n",
    "#         xaxis=dict(title='Temperature change (°C)', range=[np.min(xvalues),np.max(xvalues)]),\n",
    "#         yaxis=dict(title='Rel. contribution to variance'),\n",
    "#         font = dict(size=13),\n",
    "#         margin=dict(r=235, t=30,l=60),\n",
    "#         annotations=[\n",
    "#             dict(\n",
    "#                 x=np.max(xvalues), y=cumulative[i][-1] - yvalues[-1,i]/2,\n",
    "#                 xref='x', yref='y',\n",
    "#                 xanchor='left',\n",
    "#                 text=names[i],\n",
    "#                 showarrow=True,\n",
    "#                 font=dict(color=textcolor[i], size=14),\n",
    "#                 arrowhead=1, arrowsize=1, arrowwidth=2,\n",
    "#                 arrowcolor=colors[i % len(colors)], ax=20, ay=arrowshift[i],\n",
    "#                 borderwidth=0, bgcolor=colors[i % len(colors)]\n",
    "#             ) for i in range(len(names))\n",
    "#         ],\n",
    "#         showlegend=False\n",
    "#     )\n",
    "    \n",
    "#     fig = go.Figure(data=traces, layout=layout)\n",
    "#     return fig"
   ]
  },
  {
   "cell_type": "code",
   "execution_count": null,
   "metadata": {
    "hidden": true
   },
   "outputs": [],
   "source": [
    "namesOrig = ['TCRE', 'T2010', 'Non-CO2 var.', 'Mitig. costs']\n",
    "desiredOrder = [0, 1, 3, 2]\n",
    "\n",
    "crop_id = np.where((1.4 < Tvalues) & (Tvalues <= 5.0))[0]\n",
    "Tvalues_crop = Tvalues[crop_id]\n",
    "\n",
    "firstOrderValues = processed[0][crop_id][:,desiredOrder]\n",
    "names = ['1st: '+namesOrig[i] for i in desiredOrder]\n",
    "\n",
    "labels2nd = []\n",
    "for i in range(len(distributions)):\n",
    "    for j in range(i+1, len(distributions)):\n",
    "        labels2nd += ['2nd: ' + namesOrig[i]+' ↔ '+namesOrig[j]]\n",
    "\n",
    "withSecondOrder = np.concatenate([firstOrderValues, processed[1][crop_id]], 1)\n",
    "names += labels2nd\n",
    "\n",
    "withThirdOrder = np.concatenate([withSecondOrder, processed[2][crop_id]], 1)\n",
    "names += ['3rd: TCRE ↔ T₂₀₁₀ ↔ σ_nonCO₂']\n",
    "\n",
    "other_fill = np.maximum(0,1 - np.sum(withThirdOrder,1))\n",
    "withOther = np.concatenate([withThirdOrder, np.transpose([other_fill])], 1)\n",
    "names += ['Other']\n",
    "\n",
    "#normalise = False\n",
    "\n",
    "#colors = ['#1f77b4','#17becf','#bcbd22','#2ca02c','#7f7f7f','#8c564b','#9467bd']\n",
    "colors = [\n",
    "    'rgb(101,136,175)','rgb(136,191,186)','rgb(241,155,76)','rgb(225,108,111)',\n",
    "    '#2ca02c','#17becf','#bcbd22',\n",
    "    'rgb(101,136,175)','rgb(136,191,186)','rgb(241,155,76)','rgb(225,108,111)',\n",
    "    'rgba(150,150,150,.5)'\n",
    "]\n",
    "\n",
    "\n",
    "fig = cumulativeAreaChart(\n",
    "    Tvalues_crop, withOther, colors, names,\n",
    "    arrowshift=[0,18,0,-12,-15,0,0,15,-12,-35,-60, -65], \n",
    "    textcolor=['#FFF']*12\n",
    ")\n",
    "pyo.iplot(fig, image='', filename='relativeVariance', image_width=fig.layout.width, image_height=fig.layout.height, show_link=False)"
   ]
  },
  {
   "cell_type": "markdown",
   "metadata": {
    "hidden": true
   },
   "source": [
    "#### For paper"
   ]
  },
  {
   "cell_type": "code",
   "execution_count": null,
   "metadata": {
    "hidden": true,
    "scrolled": false
   },
   "outputs": [],
   "source": [
    "crop_id = np.where((1.4 < Tvalues) & (Tvalues < 4.6))[0]\n",
    "Tvalues_crop = Tvalues[crop_id]\n",
    "\n",
    "namesOrig = ['TCRE', 'T2010', 'sigma_nonCO2', 'p']\n",
    "desiredOrder = [0, 1, 3, 2]\n",
    "firstOrderValues = processed[0][crop_id][:,desiredOrder]\n",
    "names = [namesOrig[i] for i in desiredOrder]\n",
    "\n",
    "#labels2nd = []\n",
    "#for i in range(len(distributions)):\n",
    "#    for j in range(i+1, len(distributions)):\n",
    "#        labels2nd += ['2nd: ' + namesOrig[i]+' ↔ '+namesOrig[j]]\n",
    "\n",
    "#withSecondOrder = np.concatenate([firstOrderValues, processed[1][crop_id]], 1)\n",
    "#names += labels2nd\n",
    "\n",
    "#withThirdOrder = np.concatenate([withSecondOrder, processed[2][crop_id]], 1)\n",
    "#names += ['3rd: TCRE ↔ T2010 ↔ sigma_nonCO2']\n",
    "\n",
    "other_fill = np.maximum(0,1 - np.sum(firstOrderValues,1))\n",
    "withOther = np.concatenate([firstOrderValues, np.transpose([other_fill])], 1)\n",
    "names += ['Interaction terms']\n",
    "\n",
    "#normalise = False\n",
    "\n",
    "#colors = ['#1f77b4','#17becf','#bcbd22','#2ca02c','#7f7f7f','#8c564b','#9467bd']\n",
    "colors = [\n",
    "    'rgb(101,136,175)','rgb(136,191,186)','rgb(241,155,76)','rgb(225,108,111)',\n",
    "    'rgba(150,150,150,.5)',\n",
    "    '#2ca02c','#17becf','#bcbd22',\n",
    "    'rgb(101,136,175)','rgb(136,191,186)','rgb(241,155,76)','rgb(225,108,111)',\n",
    "    'rgba(150,150,150,.5)'\n",
    "]\n",
    "\n",
    "\n",
    "\n",
    "fig = cumulativeAreaChart(\n",
    "    Tvalues_crop, withOther, colors, names,\n",
    "    arrowshift=[0,10,-10,-5,0,0,0,8,-17,-35,-50, -65], \n",
    "    textcolor=['#FFF']*12\n",
    ")\n",
    "fig['layout'].update(\n",
    "    xaxis=dict(range=[np.min(Tvalues_crop),np.max(Tvalues_crop)]),\n",
    "    yaxis=dict(tickformat='%'),\n",
    "    margin=dict(r=170,t=10),\n",
    "    height=500,\n",
    "    width=800\n",
    ")\n",
    "pyo.iplot(fig, image='', filename='relativeVariancePaper', image_width=fig.layout.width, image_height=fig.layout.height, show_link=False)"
   ]
  },
  {
   "cell_type": "markdown",
   "metadata": {
    "heading_collapsed": true,
    "hidden": true
   },
   "source": [
    "### Carbon budget sensitivity"
   ]
  },
  {
   "cell_type": "code",
   "execution_count": null,
   "metadata": {
    "hidden": true
   },
   "outputs": [],
   "source": [
    "def modelCarbonBudget(T, paramvalues):\n",
    "    TCRE = paramvalues[:,0]\n",
    "    T2010 = paramvalues[:,1]\n",
    "    sigma_nonCO2 = paramvalues[:,2]\n",
    "    return CO2asfunctionofTemperature(T, TCRE, T2010, sigma_nonCO2)"
   ]
  },
  {
   "cell_type": "code",
   "execution_count": null,
   "metadata": {
    "hidden": true
   },
   "outputs": [],
   "source": [
    "distributionsCarbonBudget = distributions[:3]"
   ]
  },
  {
   "cell_type": "code",
   "execution_count": null,
   "metadata": {
    "hidden": true
   },
   "outputs": [],
   "source": [
    "Tvalues = np.linspace(0.5,4,50)"
   ]
  },
  {
   "cell_type": "code",
   "execution_count": null,
   "metadata": {
    "hidden": true
   },
   "outputs": [],
   "source": [
    "def parallelTaskCB(T):\n",
    "    return [testSensitivityCB(\n",
    "        1000000,\n",
    "        T,\n",
    "        distributionsCarbonBudget,\n",
    "        modelCarbonBudget,\n",
    "        [(0,1),(0,2),(1,2)],\n",
    "        (0,1,2)\n",
    "    ) for i in range(50)]"
   ]
  },
  {
   "cell_type": "code",
   "execution_count": null,
   "metadata": {
    "hidden": true
   },
   "outputs": [],
   "source": [
    "%%time\n",
    "pool = multiprocessing.Pool()\n",
    "result = pool.map(parallelTaskCB, Tvalues)\n",
    "pool.close()  \n",
    "pool.join() "
   ]
  },
  {
   "cell_type": "code",
   "execution_count": null,
   "metadata": {
    "hidden": true
   },
   "outputs": [],
   "source": [
    "processed = processResults(result)"
   ]
  },
  {
   "cell_type": "code",
   "execution_count": null,
   "metadata": {
    "hidden": true
   },
   "outputs": [],
   "source": [
    "namesOrig = ['TCRE', 'T2010', 'sigma_nonCO2']\n",
    "desiredOrder = [0, 1, 2]\n",
    "firstOrderValues = processed[0][:,desiredOrder]\n",
    "names = [namesOrig[i] for i in desiredOrder]\n",
    "\n",
    "#labels2nd = []\n",
    "#for i in range(len(distributions)):\n",
    "#    for j in range(i+1, len(distributions)):\n",
    "#        labels2nd += ['2nd: ' + namesOrig[i]+' ↔ '+namesOrig[j]]\n",
    "\n",
    "#withSecondOrder = np.concatenate([firstOrderValues, processed[1][crop_id]], 1)\n",
    "#names += labels2nd\n",
    "\n",
    "#withThirdOrder = np.concatenate([withSecondOrder, processed[2][crop_id]], 1)\n",
    "#names += ['3rd: TCRE ↔ T2010 ↔ sigma_nonCO2']\n",
    "\n",
    "other_fill = np.maximum(0,1 - np.sum(firstOrderValues,1))\n",
    "withOther = np.concatenate([firstOrderValues, np.transpose([other_fill])], 1)\n",
    "names += ['Interaction terms']\n",
    "\n",
    "#normalise = False\n",
    "\n",
    "#colors = ['#1f77b4','#17becf','#bcbd22','#2ca02c','#7f7f7f','#8c564b','#9467bd']\n",
    "colors = [\n",
    "    'rgb(101,136,175)','rgb(136,191,186)','rgb(225,108,111)',\n",
    "    'rgba(150,150,150,.5)','rgb(241,155,76)',\n",
    "    '#2ca02c','#17becf','#bcbd22',\n",
    "    'rgb(101,136,175)','rgb(136,191,186)','rgb(241,155,76)','rgb(225,108,111)',\n",
    "    'rgba(150,150,150,.5)'\n",
    "]\n",
    "\n",
    "\n",
    "\n",
    "fig = cumulativeAreaChart(\n",
    "    Tvalues, withOther, colors, names,\n",
    "    arrowshift=[0,37,20,0], \n",
    "    textcolor=['#FFF']*12\n",
    ")\n",
    "fig['layout'].update(\n",
    "    xaxis=dict(range=[np.min(Tvalues),np.max(Tvalues)]),\n",
    "    yaxis=dict(tickformat='%'),\n",
    "    margin=dict(r=170,t=10),\n",
    "    height=500,\n",
    "    width=800\n",
    ")\n",
    "pyo.iplot(fig, image='svg', filename='relativeVarianceCarbonBudget', image_width=fig.layout.width, image_height=fig.layout.height, show_link=False)"
   ]
  },
  {
   "cell_type": "code",
   "execution_count": null,
   "metadata": {
    "hidden": true
   },
   "outputs": [],
   "source": [
    "(0.075/0.135)**2"
   ]
  },
  {
   "cell_type": "code",
   "execution_count": null,
   "metadata": {
    "hidden": true
   },
   "outputs": [],
   "source": [
    "pyo.iplot(go.Figure(\n",
    "    data=[\n",
    "        go.Scatter(x=Tvalues,y=firstOrderValues[:,1]/firstOrderValues[:,2]),\n",
    "        go.Scatter(x=Tvalues,y=Tvalues*0 + (0.075/0.135)**2)\n",
    "    ],\n",
    "    layout=go.Layout(yaxis=dict(range=[0,1]))\n",
    "))"
   ]
  },
  {
   "cell_type": "markdown",
   "metadata": {
    "heading_collapsed": true,
    "hidden": true
   },
   "source": [
    "### With total"
   ]
  },
  {
   "cell_type": "code",
   "execution_count": null,
   "metadata": {
    "hidden": true,
    "scrolled": false
   },
   "outputs": [],
   "source": [
    "names = ['TCRE', 'T2010', 'sigma_nonCO2', 'p']\n",
    "\n",
    "onlyfirst = True\n",
    "normalise = True\n",
    "\n",
    "colors = ['#1f77b4','#17becf','#bcbd22','#2ca02c','#7f7f7f','#8c564b','#9467bd']\n",
    "colors = ['rgb(101,136,175)','rgb(136,191,186)','rgb(241,155,76)','rgb(225,108,111)']\n",
    "\n",
    "firstOrTotal = 0 if onlyfirst else 1\n",
    "\n",
    "# Normalise data to 1\n",
    "normalised = [\n",
    "    results_np[:,i,firstOrTotal] / (1 + normalise * (-1 + np.sum(results_np[:,:,firstOrTotal],1)))\n",
    "    for i in range(len(distributions))\n",
    "]\n",
    "\n",
    "# Use the desired order\n",
    "desiredOrder = [0, 1, 3, 2]\n",
    "normalised_ordered = np.array([normalised[i] for i in desiredOrder])\n",
    "names_ordered = [names[i] for i in desiredOrder]\n",
    "\n",
    "# Calculate cumulative values for stacked chart\n",
    "cumulative = [\n",
    "    np.sum(normalised_ordered[0:i+1,:],0)\n",
    "    for i in range(len(distributions))\n",
    "]\n",
    "\n",
    "# Plot\n",
    "traces = [\n",
    "    go.Scatter(\n",
    "        x=Tvalues, y=cumulative[i],\n",
    "        name=names_ordered[i],\n",
    "        mode='lines',\n",
    "        fill='tonexty',\n",
    "        #fillcolor=colors[i],\n",
    "        text=[str(int(y*100))+'%' for y in normalised_ordered[i]],\n",
    "        hoverinfo='x+text'\n",
    "    )\n",
    "    for i in range(len(distributions))]\n",
    "\n",
    "layout = go.Layout(\n",
    "    colorway=colors,\n",
    "    barmode='stack',\n",
    "    width=700,\n",
    "    height=500,\n",
    "    xaxis=dict(title='Temperature change'),\n",
    "    yaxis=dict(title='Rel. contribution to variance')\n",
    ")\n",
    "\n",
    "pyo.iplot(go.Figure(data=traces, layout=layout))"
   ]
  },
  {
   "cell_type": "code",
   "execution_count": null,
   "metadata": {
    "hidden": true
   },
   "outputs": [],
   "source": [
    "pyo.iplot(go.Figure(data=[\n",
    "    go.Scatter(x=Tvalues, y=normalised_ordered[i], name=names_ordered[i], line=dict(shape='spline'))\n",
    "    for i in range(len(names_ordered))\n",
    "], layout=layout))"
   ]
  },
  {
   "cell_type": "markdown",
   "metadata": {
    "heading_collapsed": true
   },
   "source": [
    "## Carbon budgets"
   ]
  },
  {
   "cell_type": "code",
   "execution_count": null,
   "metadata": {
    "hidden": true
   },
   "outputs": [],
   "source": [
    "def plotCarbonBudget (sampleValues, T, maxy, colors=['#1f77b4','#ff7f0e','#2ca02c','#d62728','#9467bd'], budgetsInp=None, plot=True, confid=0.67):\n",
    "    traces = []\n",
    "    budgets = []\n",
    "    \n",
    "    for i in range(len(T)):\n",
    "        # Calculate point above which 66% of sample points occur\n",
    "        # First order the sample values\n",
    "        sortedsamples = np.sort(sampleValues[i])\n",
    "        likely = sortedsamples[int((1-confid) * len(sortedsamples))]\n",
    "\n",
    "        Tstring = '%.1f°C' % (T[i])\n",
    "\n",
    "        print('Likely carbon budget for T=%s: %.4f Tt CO2' % (Tstring,likely))\n",
    "        \n",
    "        likelyLine = likely if budgetsInp == None else budgetsInp[i]\n",
    "\n",
    "        # Plot the histogram\n",
    "        traceHistogram = go.Histogram(x=sampleValues[i], histnorm='probability density', marker=dict(color=colors[i], opacity=0.85), xbins=dict(start=0.0, end=7.5,size=7.0/100), name='PDF for T='+Tstring)\n",
    "        traceLikelyline = go.Scatter(x=[likelyLine, likelyLine], y=[-0.2, maxy[i]], name='Likely budget', marker=dict(color=colors[i]), line=dict(color='black', width=1.5), mode='lines', showlegend=i==len(T)-1)\n",
    "        \n",
    "        traces += [traceHistogram, traceLikelyline]\n",
    "        \n",
    "        budgets += [[T[i], likely]]\n",
    "    \n",
    "    layout = go.Layout(\n",
    "        #title='CO2 distribution for T='+str(T)+'°C',\n",
    "        xaxis = dict(range = [0, 7.5], title = 'Carbon budget (Tt CO₂)'),\n",
    "        height = 450,\n",
    "        width = 800,\n",
    "        font = dict(size=13),\n",
    "        yaxis = dict(range = [0,1.32], title = 'Probability density'),\n",
    "        #bargap = 0,\n",
    "        margin = dict(l = 60, t = 20, b = 60),\n",
    "        barmode = 'overlay'\n",
    "    )\n",
    "    \n",
    "    if plot:\n",
    "        fig = go.Figure(data=traces, layout=layout)\n",
    "        pyo.iplot(fig, image='', filename='carbonBudgetsDist', image_width=fig.layout.width, image_height=fig.layout.height, show_link=False)\n",
    "    \n",
    "    return (np.array(budgets), traces)"
   ]
  },
  {
   "cell_type": "code",
   "execution_count": null,
   "metadata": {
    "hidden": true
   },
   "outputs": [],
   "source": [
    "testvaluesT = np.array([1.5, 2, 2.5, 3, 3.5])\n",
    "testvalues = [sampleCO2value(T, 100000, distributions) for T in tqdm(testvaluesT)]"
   ]
  },
  {
   "cell_type": "code",
   "execution_count": null,
   "metadata": {
    "hidden": true
   },
   "outputs": [],
   "source": [
    "# Manually adjusted carbon budgets\n",
    "\n",
    "# budget1_5degrees = 0.830*1.0075\n",
    "# budget2_0degrees = 1.601*1.006\n",
    "# budget2_5degrees = 2.367*1.0045\n",
    "# budget3_0degrees = 3.123*1.0055\n",
    "# budget3_5degrees = 3.884*1.0042"
   ]
  },
  {
   "cell_type": "code",
   "execution_count": null,
   "metadata": {
    "hidden": true
   },
   "outputs": [],
   "source": [
    "# Manually adjusted carbon budgets\n",
    "\n",
    "budget1_5degrees = 0.7761*1.0185\n",
    "budget2_0degrees = 1.4750*1.0161\n",
    "budget2_5degrees = 2.1659*1.015\n",
    "budget3_0degrees = 2.8528*1.015\n",
    "budget3_5degrees = 3.5361*1.016"
   ]
  },
  {
   "cell_type": "code",
   "execution_count": null,
   "metadata": {
    "hidden": true
   },
   "outputs": [],
   "source": [
    "# First estimate:\n",
    "budgetsCO2, budgetsTraces = plotCarbonBudget(\n",
    "    testvalues,\n",
    "    plot=False,\n",
    "    T=testvaluesT,\n",
    "    maxy=[1.4,1.4,1.4,1.4, 1.4],\n",
    "    budgetsInp=None,\n",
    "    colors=['#A50F2D','#E32C2C','#F97742','#FCB35A','#FDE493']\n",
    ")"
   ]
  },
  {
   "cell_type": "markdown",
   "metadata": {
    "hidden": true
   },
   "source": [
    "#### Adjust carbon budgets\n",
    "\n",
    "Since carbon budgets should be calculated as inverse problems, use binary search to fine tune the carbon budgets found above"
   ]
  },
  {
   "cell_type": "code",
   "execution_count": null,
   "metadata": {
    "hidden": true
   },
   "outputs": [],
   "source": [
    "def sampleTvalues (CO2, N, distributions):\n",
    "    # Sample data points\n",
    "    sample = dict(\n",
    "        TCRE = distributions[0](N),\n",
    "        T2010 = distributions[1](N),\n",
    "        sigma_nonCO2 = distributions[2](N)\n",
    "    )\n",
    "\n",
    "    # CO2 values\n",
    "    Tvalues = TemperatureasfunctionofCO2(CO2, sample['TCRE'], sample['T2010'], sample['sigma_nonCO2'])\n",
    "    \n",
    "    return Tvalues"
   ]
  },
  {
   "cell_type": "code",
   "execution_count": null,
   "metadata": {
    "hidden": true
   },
   "outputs": [],
   "source": [
    "def calcLikelyTemperature (Tvalues):\n",
    "    \"\"\"\n",
    "    Returns the temperature value such that 66% of values are smaller or equal to this value\n",
    "    \"\"\"\n",
    "    TvaluesSorted = np.sort(Tvalues)\n",
    "    return TvaluesSorted[round(0.66 * len(Tvalues))]"
   ]
  },
  {
   "cell_type": "code",
   "execution_count": null,
   "metadata": {
    "hidden": true
   },
   "outputs": [],
   "source": [
    "def binarySearchRoot (fct, xmin, xmax):\n",
    "    tol = 0.0005\n",
    "    maxnum = 25\n",
    "    \n",
    "    num = 0\n",
    "    while abs(fct(xmin) - fct(xmax)) > tol and num < maxnum:\n",
    "        xmid = (xmax + xmin) / 2\n",
    "        if fct(xmid) > 0:\n",
    "            xmax = xmid\n",
    "        else:\n",
    "            xmin = xmid\n",
    "        num += 1\n",
    "        print(\"Iteration %i. Current function value: %.7f\" % (num, fct(xmid)))\n",
    "    return xmid"
   ]
  },
  {
   "cell_type": "code",
   "execution_count": null,
   "metadata": {
    "hidden": true
   },
   "outputs": [],
   "source": [
    "def checkCarbonbudget(T_target, budget):\n",
    "    temps = [calcLikelyTemperature(sampleTvalues(budget, 50000, distributions)) for i in range(50)]\n",
    "    T = np.mean(temps)\n",
    "    return T - T_target"
   ]
  },
  {
   "cell_type": "code",
   "execution_count": null,
   "metadata": {
    "hidden": true
   },
   "outputs": [],
   "source": [
    "firstguess = budgetsCO2[0,1]\n",
    "budget1_5degrees = binarySearchRoot(lambda x: checkCarbonbudget(1.5, x), firstguess, 1.05 * firstguess)\n",
    "print(budget1_5degrees)"
   ]
  },
  {
   "cell_type": "code",
   "execution_count": null,
   "metadata": {
    "hidden": true
   },
   "outputs": [],
   "source": [
    "firstguess = budgetsCO2[1,1]\n",
    "budget2_0degrees = binarySearchRoot(lambda x: checkCarbonbudget(2.0, x), firstguess, 1.05 * firstguess)\n",
    "print(budget2_0degrees)"
   ]
  },
  {
   "cell_type": "code",
   "execution_count": null,
   "metadata": {
    "hidden": true
   },
   "outputs": [],
   "source": [
    "firstguess = budgetsCO2[2,1]\n",
    "budget2_5degrees = binarySearchRoot(lambda x: checkCarbonbudget(2.5, x), firstguess, 1.05 * firstguess)\n",
    "print(budget2_5degrees)"
   ]
  },
  {
   "cell_type": "code",
   "execution_count": null,
   "metadata": {
    "hidden": true
   },
   "outputs": [],
   "source": [
    "firstguess = budgetsCO2[3,1]\n",
    "budget3_0degrees = binarySearchRoot(lambda x: checkCarbonbudget(3.0, x), firstguess, 1.05 * firstguess)\n",
    "print(budget3_0degrees)"
   ]
  },
  {
   "cell_type": "code",
   "execution_count": null,
   "metadata": {
    "hidden": true
   },
   "outputs": [],
   "source": [
    "firstguess = budgetsCO2[4,1]\n",
    "budget3_5degrees = binarySearchRoot(lambda x: checkCarbonbudget(3.5, x), firstguess, 1.05 * firstguess)\n",
    "print(budget3_5degrees)"
   ]
  },
  {
   "cell_type": "code",
   "execution_count": null,
   "metadata": {
    "hidden": true
   },
   "outputs": [],
   "source": [
    "# First estimate:\n",
    "# budgetsCO2, budgetsTraces = plotCarbonBudget(\n",
    "#     testvalues,\n",
    "#     plot=False,\n",
    "#     T=testvaluesT,\n",
    "#     maxy=[1.4,1.4,1.4,1.4, 1.4],\n",
    "#     budgetsInp=[budget1_5degrees, budget2_0degrees, budget2_5degrees, budget3_0degrees, budget3_5degrees],\n",
    "#     colors=['#A50F2D','#E32C2C','#F97742','#FCB35A','#FDE493'],\n",
    "#     confid=0.05\n",
    "# )"
   ]
  },
  {
   "cell_type": "code",
   "execution_count": null,
   "metadata": {
    "hidden": true
   },
   "outputs": [],
   "source": [
    "# First estimate:\n",
    "# budgetsCO2, budgetsTraces = plotCarbonBudget(\n",
    "#     testvalues,\n",
    "#     plot=False,\n",
    "#     T=testvaluesT,\n",
    "#     maxy=[1.4,1.4,1.4,1.4, 1.4],\n",
    "#     budgetsInp=[budget1_5degrees, budget2_0degrees, budget2_5degrees, budget3_0degrees, budget3_5degrees],\n",
    "#     colors=['#A50F2D','#E32C2C','#F97742','#FCB35A','#FDE493'],\n",
    "#     confid=0.95\n",
    "# )"
   ]
  },
  {
   "cell_type": "code",
   "execution_count": null,
   "metadata": {
    "hidden": true
   },
   "outputs": [],
   "source": [
    "for i in np.transpose(np.array([[1.5,2,2.5,3,3.5],[budget1_5degrees,budget2_0degrees,budget2_5degrees,budget3_0degrees,budget3_5degrees]])):\n",
    "    print('Target: %.1f°C\\tBudget: %4.0f Gt CO2' % (i[0], i[1]*1000))"
   ]
  },
  {
   "cell_type": "code",
   "execution_count": null,
   "metadata": {
    "hidden": true
   },
   "outputs": [],
   "source": [
    "for i in np.transpose(np.array([[1.5,2,2.5,3,3.5],[budget1_5degrees,budget2_0degrees,budget2_5degrees,budget3_0degrees,budget3_5degrees]])):\n",
    "    print('Target: %.1f°C\\tBudget: %4.0f Gt CO2' % (i[0], i[1]*1000))"
   ]
  },
  {
   "cell_type": "markdown",
   "metadata": {
    "heading_collapsed": true
   },
   "source": [
    "## Model Output"
   ]
  },
  {
   "cell_type": "code",
   "execution_count": null,
   "metadata": {
    "hidden": true,
    "scrolled": false
   },
   "outputs": [],
   "source": [
    "# Sample red plume\n",
    "def sampleEverything(N):\n",
    "    \n",
    "    samples = [dist(N) for dist in distributions]\n",
    "    \n",
    "    CO2values = np.linspace(0.5, 6, N)\n",
    "    #samples += [CO2values]\n",
    "    \n",
    "    Temperature_samples = TemperatureasfunctionofCO2(CO2values, samples[0], samples[1], samples[2])\n",
    "    \n",
    "    Cost_samples = toRealCosts(f(CO2values, samples[3]))\n",
    "    \n",
    "    return (CO2values,Temperature_samples, Cost_samples)\n",
    "\n",
    "def createResultsPlot (legend=2):\n",
    "    N = 6500\n",
    "    outp = sampleEverything(N)\n",
    "    \n",
    "    useGL = False\n",
    "    scatterFct = go.Scattergl if useGL else go.Scatter\n",
    "\n",
    "    trace1 = scatterFct(x=outp[0], y=outp[1], mode='markers', marker=dict(color=outp[0], colorscale='Viridis', size=3), showlegend=False)\n",
    "    trace2 = scatterFct(x=outp[0], y=outp[2], mode='markers', marker=dict(color=outp[0], colorscale='Viridis', size=3), showlegend=False)\n",
    "    traceCombined = scatterFct(\n",
    "        x=outp[1], y=outp[2],\n",
    "        mode='markers',\n",
    "        marker=dict(\n",
    "            color=outp[0],\n",
    "            showscale=True,\n",
    "            colorscale='Viridis',#Viridis\n",
    "            colorbar=dict(title='Tt CO₂', thickness=15, len=0.5, y=0.24, x=1),\n",
    "            size=3\n",
    "        ), showlegend=False)\n",
    "\n",
    "    trace3 = go.Scatter(x=costRange[selectionMedian,3], y=costRange[selectionMedian,0], mode='lines', line=dict(width=2.5, color='#EEE'), showlegend=legend==3, name='Median')\n",
    "    trace4 = go.Scatter(x=costRange[selectionMin,3], y=costRange[selectionMin,1], mode='lines', line=dict(width=2.5, color='#111'), showlegend=legend==3, name='90% CI')\n",
    "    trace5 = go.Scatter(x=costRange[selectionMax,3], y=costRange[selectionMax,2], mode='lines', line=dict(width=2.5, color='#111'), showlegend=False)\n",
    "\n",
    "    fig = pyt.make_subplots(2, 2, print_grid=False)\n",
    "\n",
    "    fig.append_trace(trace1, 1, 1)\n",
    "    for trace in budgetsTraces:\n",
    "        trace['showlegend'] = legend == 2 if 'showlegend' not in trace else (trace['showlegend'] and legend == 2)\n",
    "        fig.append_trace(trace, 1, 2)\n",
    "    fig.append_trace(trace2, 2, 1)\n",
    "    fig.append_trace(traceCombined, 2, 2)\n",
    "    fig.append_trace(trace3, 2, 2)\n",
    "    fig.append_trace(trace4, 2, 2)\n",
    "    fig.append_trace(trace5, 2, 2)\n",
    "    \n",
    "    if (legend == 2):\n",
    "        legendpos = dict(x=0.88, y=1)\n",
    "    if (legend == 3):\n",
    "        legendpos = dict(orientation='h', x=0.65)\n",
    "\n",
    "    fig['layout'].update(dict(\n",
    "        height = 800, width=900,\n",
    "        xaxis1 = dict(title='Emissions (Tt CO₂)', range=[0,6]),\n",
    "        yaxis1 = dict(title='Temp. change (°C)', range=[0,6], domain=[.565,1]),\n",
    "        xaxis2 = dict(title='Emissions (Tt CO₂)', range=[0, 6.5]),\n",
    "        yaxis2 = dict(title='Probability density', range=[0, 1.365], domain=[.565,1]),\n",
    "        xaxis3 = dict(title='Emissions (Tt CO₂)', range=[0,6]),\n",
    "        yaxis3 = dict(title='Translated costs (trillion USD)', range=[-5, 295], domain=[0, .435]),\n",
    "        xaxis4 = dict(title='Temp. change (°C)', range=[0, 6.2]),\n",
    "        yaxis4 = dict(title='Translated costs (trillion USD)', domain=[0,.435], range=[-5, 295]),\n",
    "        showlegend = True,\n",
    "        barmode = 'overlay',\n",
    "        legend = legendpos,\n",
    "        font = dict(size=13),\n",
    "        margin=dict(\n",
    "            t=30,\n",
    "            b=120,l=50,r=40\n",
    "        )\n",
    "    ))\n",
    "\n",
    "    pyo.iplot(fig, image='', filename='modelOutputSamples', image_width=fig.layout.width, image_height=fig.layout.height, show_link=False)\n",
    "\n",
    "    \n",
    "#createResultsPlot(2)"
   ]
  }
 ],
 "metadata": {
  "kernelspec": {
   "display_name": "Python 3",
   "language": "python",
   "name": "python3"
  },
  "language_info": {
   "codemirror_mode": {
    "name": "ipython",
    "version": 3
   },
   "file_extension": ".py",
   "mimetype": "text/x-python",
   "name": "python",
   "nbconvert_exporter": "python",
   "pygments_lexer": "ipython3",
   "version": "3.7.1"
  },
  "latex_envs": {
   "LaTeX_envs_menu_present": true,
   "autoclose": false,
   "autocomplete": true,
   "bibliofile": "biblio.bib",
   "cite_by": "apalike",
   "current_citInitial": 1,
   "eqLabelWithNumbers": true,
   "eqNumInitial": 1,
   "hotkeys": {
    "equation": "Ctrl-E",
    "itemize": "Ctrl-I"
   },
   "labels_anchors": false,
   "latex_user_defs": false,
   "report_style_numbering": false,
   "user_envs_cfg": false
  },
  "notify_time": "30",
  "varInspector": {
   "cols": {
    "lenName": 16,
    "lenType": 16,
    "lenVar": 40
   },
   "kernels_config": {
    "python": {
     "delete_cmd_postfix": "",
     "delete_cmd_prefix": "del ",
     "library": "var_list.py",
     "varRefreshCmd": "print(var_dic_list())"
    },
    "r": {
     "delete_cmd_postfix": ") ",
     "delete_cmd_prefix": "rm(",
     "library": "var_list.r",
     "varRefreshCmd": "cat(var_dic_list()) "
    }
   },
   "position": {
    "height": "747px",
    "left": "1603px",
    "right": "20px",
    "top": "120px",
    "width": "297px"
   },
   "types_to_exclude": [
    "module",
    "function",
    "builtin_function_or_method",
    "instance",
    "_Feature"
   ],
   "window_display": false
  }
 },
 "nbformat": 4,
 "nbformat_minor": 2
}
